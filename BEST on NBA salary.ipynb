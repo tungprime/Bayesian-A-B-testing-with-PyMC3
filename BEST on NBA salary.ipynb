{
 "cells": [
  {
   "cell_type": "markdown",
   "metadata": {},
   "source": [
    "This is the Jupyter Notebook that I use to demonstrate the BEST (Bayesian supersedes the t-Test) for A/B testing. "
   ]
  },
  {
   "cell_type": "markdown",
   "metadata": {},
   "source": [
    "# Part 1: Web-scraping the NBA salary data"
   ]
  },
  {
   "cell_type": "markdown",
   "metadata": {},
   "source": [
    "First, we load some essential packages."
   ]
  },
  {
   "cell_type": "code",
   "execution_count": 1,
   "metadata": {
    "scrolled": true
   },
   "outputs": [],
   "source": [
    "import pandas as pd\n",
    "import requests\n",
    "from bs4 import BeautifulSoup\n",
    "from tabulate import tabulate\n",
    "import numpy as np\n",
    "import seaborn as sns\n",
    "\n",
    "import pymc3 as pm\n",
    "import scipy.stats as stats\n",
    "import matplotlib.pyplot as plt\n",
    "%matplotlib inline\n",
    "from IPython.core.pylabtools import figsize\n",
    "import theano.tensor as tt\n",
    "from scipy.stats.mstats import mquantiles\n"
   ]
  },
  {
   "cell_type": "markdown",
   "metadata": {},
   "source": [
    "This is the function that we use to get the raw data."
   ]
  },
  {
   "cell_type": "code",
   "execution_count": 2,
   "metadata": {},
   "outputs": [],
   "source": [
    "def get_raw_data(link):\n",
    "    \"\"\"\n",
    "    Given a link, get the raw data from ESPN.com\n",
    "    \"\"\"\n",
    "    res = requests.get(link)\n",
    "    soup = BeautifulSoup(res.content,'lxml')\n",
    "    table = soup.find_all('table')[0] \n",
    "    df= pd.read_html(str(table))[0]\n",
    "    df=df.drop(df[df[1]=='NAME'].index)\n",
    "    df.columns=['RK', 'Name', 'Team', 'Salary']\n",
    "    df.set_index('RK', inplace=True)\n",
    "    return df    \n",
    "    "
   ]
  },
  {
   "cell_type": "markdown",
   "metadata": {},
   "source": [
    "We test the above function."
   ]
  },
  {
   "cell_type": "code",
   "execution_count": 3,
   "metadata": {},
   "outputs": [
    {
     "data": {
      "text/html": [
       "<div>\n",
       "<style scoped>\n",
       "    .dataframe tbody tr th:only-of-type {\n",
       "        vertical-align: middle;\n",
       "    }\n",
       "\n",
       "    .dataframe tbody tr th {\n",
       "        vertical-align: top;\n",
       "    }\n",
       "\n",
       "    .dataframe thead th {\n",
       "        text-align: right;\n",
       "    }\n",
       "</style>\n",
       "<table border=\"1\" class=\"dataframe\">\n",
       "  <thead>\n",
       "    <tr style=\"text-align: right;\">\n",
       "      <th></th>\n",
       "      <th>Name</th>\n",
       "      <th>Team</th>\n",
       "      <th>Salary</th>\n",
       "    </tr>\n",
       "    <tr>\n",
       "      <th>RK</th>\n",
       "      <th></th>\n",
       "      <th></th>\n",
       "      <th></th>\n",
       "    </tr>\n",
       "  </thead>\n",
       "  <tbody>\n",
       "    <tr>\n",
       "      <th>1</th>\n",
       "      <td>Stephen Curry, PG</td>\n",
       "      <td>Golden State Warriors</td>\n",
       "      <td>$40,231,758</td>\n",
       "    </tr>\n",
       "    <tr>\n",
       "      <th>2</th>\n",
       "      <td>Chris Paul, PG</td>\n",
       "      <td>Oklahoma City Thunder</td>\n",
       "      <td>$38,506,482</td>\n",
       "    </tr>\n",
       "    <tr>\n",
       "      <th>3</th>\n",
       "      <td>Russell Westbrook, PG</td>\n",
       "      <td>Houston Rockets</td>\n",
       "      <td>$38,506,482</td>\n",
       "    </tr>\n",
       "    <tr>\n",
       "      <th>4</th>\n",
       "      <td>John Wall, PG</td>\n",
       "      <td>Washington Wizards</td>\n",
       "      <td>$38,199,000</td>\n",
       "    </tr>\n",
       "    <tr>\n",
       "      <th>5</th>\n",
       "      <td>Kevin Durant, SF</td>\n",
       "      <td>Brooklyn Nets</td>\n",
       "      <td>$38,199,000</td>\n",
       "    </tr>\n",
       "  </tbody>\n",
       "</table>\n",
       "</div>"
      ],
      "text/plain": [
       "                     Name                   Team       Salary\n",
       "RK                                                           \n",
       "1       Stephen Curry, PG  Golden State Warriors  $40,231,758\n",
       "2          Chris Paul, PG  Oklahoma City Thunder  $38,506,482\n",
       "3   Russell Westbrook, PG        Houston Rockets  $38,506,482\n",
       "4           John Wall, PG     Washington Wizards  $38,199,000\n",
       "5        Kevin Durant, SF          Brooklyn Nets  $38,199,000"
      ]
     },
     "execution_count": 3,
     "metadata": {},
     "output_type": "execute_result"
    }
   ],
   "source": [
    "link=\"http://www.espn.com/nba/salaries/_/seasontype/3\"\n",
    "df1=get_raw_data(link)\n",
    "df1.head()"
   ]
  },
  {
   "cell_type": "markdown",
   "metadata": {},
   "source": [
    "There is a pattern when the page is between 2-14. We can use this fact to get the data from each page. We then combine them into a single data frame. "
   ]
  },
  {
   "cell_type": "code",
   "execution_count": 4,
   "metadata": {},
   "outputs": [],
   "source": [
    "df =df1\n",
    "for i in range(2,15):\n",
    "    #get the data for page i\n",
    "    df_i=get_raw_data(link= f\"http://www.espn.com/nba/salaries/_/page/{i}/seasontype/3\") \n",
    "    \n",
    "    #combine all the data\n",
    "    \n",
    "    df=pd.concat([df, df_i], axis=0)\n"
   ]
  },
  {
   "cell_type": "markdown",
   "metadata": {},
   "source": [
    "Let us take a look at the first few rows of this data frame. "
   ]
  },
  {
   "cell_type": "code",
   "execution_count": 5,
   "metadata": {},
   "outputs": [
    {
     "data": {
      "text/html": [
       "<div>\n",
       "<style scoped>\n",
       "    .dataframe tbody tr th:only-of-type {\n",
       "        vertical-align: middle;\n",
       "    }\n",
       "\n",
       "    .dataframe tbody tr th {\n",
       "        vertical-align: top;\n",
       "    }\n",
       "\n",
       "    .dataframe thead th {\n",
       "        text-align: right;\n",
       "    }\n",
       "</style>\n",
       "<table border=\"1\" class=\"dataframe\">\n",
       "  <thead>\n",
       "    <tr style=\"text-align: right;\">\n",
       "      <th></th>\n",
       "      <th>Name</th>\n",
       "      <th>Team</th>\n",
       "      <th>Salary</th>\n",
       "    </tr>\n",
       "    <tr>\n",
       "      <th>RK</th>\n",
       "      <th></th>\n",
       "      <th></th>\n",
       "      <th></th>\n",
       "    </tr>\n",
       "  </thead>\n",
       "  <tbody>\n",
       "    <tr>\n",
       "      <th>1</th>\n",
       "      <td>Stephen Curry, PG</td>\n",
       "      <td>Golden State Warriors</td>\n",
       "      <td>$40,231,758</td>\n",
       "    </tr>\n",
       "    <tr>\n",
       "      <th>2</th>\n",
       "      <td>Chris Paul, PG</td>\n",
       "      <td>Oklahoma City Thunder</td>\n",
       "      <td>$38,506,482</td>\n",
       "    </tr>\n",
       "    <tr>\n",
       "      <th>3</th>\n",
       "      <td>Russell Westbrook, PG</td>\n",
       "      <td>Houston Rockets</td>\n",
       "      <td>$38,506,482</td>\n",
       "    </tr>\n",
       "    <tr>\n",
       "      <th>4</th>\n",
       "      <td>John Wall, PG</td>\n",
       "      <td>Washington Wizards</td>\n",
       "      <td>$38,199,000</td>\n",
       "    </tr>\n",
       "    <tr>\n",
       "      <th>5</th>\n",
       "      <td>Kevin Durant, SF</td>\n",
       "      <td>Brooklyn Nets</td>\n",
       "      <td>$38,199,000</td>\n",
       "    </tr>\n",
       "  </tbody>\n",
       "</table>\n",
       "</div>"
      ],
      "text/plain": [
       "                     Name                   Team       Salary\n",
       "RK                                                           \n",
       "1       Stephen Curry, PG  Golden State Warriors  $40,231,758\n",
       "2          Chris Paul, PG  Oklahoma City Thunder  $38,506,482\n",
       "3   Russell Westbrook, PG        Houston Rockets  $38,506,482\n",
       "4           John Wall, PG     Washington Wizards  $38,199,000\n",
       "5        Kevin Durant, SF          Brooklyn Nets  $38,199,000"
      ]
     },
     "execution_count": 5,
     "metadata": {},
     "output_type": "execute_result"
    }
   ],
   "source": [
    "df.head()"
   ]
  },
  {
   "cell_type": "markdown",
   "metadata": {},
   "source": [
    "To do data analysis efficiently, we need to convert the Salary into float numbers. We also normalize them using a million dollar as a unit. This is accomplised by the following function."
   ]
  },
  {
   "cell_type": "code",
   "execution_count": 6,
   "metadata": {},
   "outputs": [],
   "source": [
    "def convert_string_to_float(dollars):\n",
    "    return float(dollars.replace(\"$\",\"\").replace(\",\",\"\"))"
   ]
  },
  {
   "cell_type": "markdown",
   "metadata": {},
   "source": [
    "This is the function that we use to get the positions. "
   ]
  },
  {
   "cell_type": "code",
   "execution_count": 7,
   "metadata": {},
   "outputs": [],
   "source": [
    "def get_position(text):\n",
    "    return text.split(', ')[-1]"
   ]
  },
  {
   "cell_type": "markdown",
   "metadata": {},
   "source": [
    "We apply these two functions to get the refined data frame."
   ]
  },
  {
   "cell_type": "code",
   "execution_count": 8,
   "metadata": {},
   "outputs": [
    {
     "data": {
      "text/html": [
       "<div>\n",
       "<style scoped>\n",
       "    .dataframe tbody tr th:only-of-type {\n",
       "        vertical-align: middle;\n",
       "    }\n",
       "\n",
       "    .dataframe tbody tr th {\n",
       "        vertical-align: top;\n",
       "    }\n",
       "\n",
       "    .dataframe thead th {\n",
       "        text-align: right;\n",
       "    }\n",
       "</style>\n",
       "<table border=\"1\" class=\"dataframe\">\n",
       "  <thead>\n",
       "    <tr style=\"text-align: right;\">\n",
       "      <th></th>\n",
       "      <th>Name</th>\n",
       "      <th>Team</th>\n",
       "      <th>Salary</th>\n",
       "      <th>Position</th>\n",
       "    </tr>\n",
       "    <tr>\n",
       "      <th>RK</th>\n",
       "      <th></th>\n",
       "      <th></th>\n",
       "      <th></th>\n",
       "      <th></th>\n",
       "    </tr>\n",
       "  </thead>\n",
       "  <tbody>\n",
       "    <tr>\n",
       "      <th>1</th>\n",
       "      <td>Stephen Curry, PG</td>\n",
       "      <td>Golden State Warriors</td>\n",
       "      <td>40.231758</td>\n",
       "      <td>PG</td>\n",
       "    </tr>\n",
       "    <tr>\n",
       "      <th>2</th>\n",
       "      <td>Chris Paul, PG</td>\n",
       "      <td>Oklahoma City Thunder</td>\n",
       "      <td>38.506482</td>\n",
       "      <td>PG</td>\n",
       "    </tr>\n",
       "    <tr>\n",
       "      <th>3</th>\n",
       "      <td>Russell Westbrook, PG</td>\n",
       "      <td>Houston Rockets</td>\n",
       "      <td>38.506482</td>\n",
       "      <td>PG</td>\n",
       "    </tr>\n",
       "    <tr>\n",
       "      <th>4</th>\n",
       "      <td>John Wall, PG</td>\n",
       "      <td>Washington Wizards</td>\n",
       "      <td>38.199000</td>\n",
       "      <td>PG</td>\n",
       "    </tr>\n",
       "    <tr>\n",
       "      <th>5</th>\n",
       "      <td>Kevin Durant, SF</td>\n",
       "      <td>Brooklyn Nets</td>\n",
       "      <td>38.199000</td>\n",
       "      <td>SF</td>\n",
       "    </tr>\n",
       "  </tbody>\n",
       "</table>\n",
       "</div>"
      ],
      "text/plain": [
       "                     Name                   Team     Salary Position\n",
       "RK                                                                  \n",
       "1       Stephen Curry, PG  Golden State Warriors  40.231758       PG\n",
       "2          Chris Paul, PG  Oklahoma City Thunder  38.506482       PG\n",
       "3   Russell Westbrook, PG        Houston Rockets  38.506482       PG\n",
       "4           John Wall, PG     Washington Wizards  38.199000       PG\n",
       "5        Kevin Durant, SF          Brooklyn Nets  38.199000       SF"
      ]
     },
     "execution_count": 8,
     "metadata": {},
     "output_type": "execute_result"
    }
   ],
   "source": [
    "df['Position']=df['Name'].apply(get_position)\n",
    "df['Salary']=(df['Salary'].apply(convert_string_to_float))/10**6\n",
    "df.head()"
   ]
  },
  {
   "cell_type": "markdown",
   "metadata": {},
   "source": [
    "We save this data frame to a CSV file for future uses."
   ]
  },
  {
   "cell_type": "code",
   "execution_count": 9,
   "metadata": {},
   "outputs": [],
   "source": [
    "df.to_csv('NBA_salary')"
   ]
  },
  {
   "cell_type": "markdown",
   "metadata": {},
   "source": [
    "We list all the possible positions in this dataset."
   ]
  },
  {
   "cell_type": "code",
   "execution_count": 10,
   "metadata": {},
   "outputs": [
    {
     "data": {
      "image/png": "[encoded data removed]",
      "text/plain": [
       "<Figure size 900x288 with 1 Axes>"
      ]
     },
     "metadata": {
      "needs_background": "light"
     },
     "output_type": "display_data"
    }
   ],
   "source": [
    "figsize(12.5,4)\n",
    "positions=df['Position'].value_counts()\n",
    "positions.sort_values(inplace=True)\n",
    "bar=sns.barplot(x=positions.index, y=positions)\n",
    "plt.xlabel(\"Position\")\n",
    "plt.ylabel(\"Number of players\")\n",
    "plt.title(\"Number of players by positions\")\n",
    "plt.show()"
   ]
  },
  {
   "cell_type": "markdown",
   "metadata": {},
   "source": [
    "There are seven different positions: Shooting Guard (SG), SF (Small Forward), PF (Power Forward), C (Center), PG (Point Guard), G( Guard), F (Forward)"
   ]
  },
  {
   "cell_type": "markdown",
   "metadata": {},
   "source": [
    "We plot the salary's means for each type of position."
   ]
  },
  {
   "cell_type": "code",
   "execution_count": 11,
   "metadata": {},
   "outputs": [
    {
     "data": {
      "image/png": "[encoded data removed]",
      "text/plain": [
       "<Figure size 900x288 with 1 Axes>"
      ]
     },
     "metadata": {
      "needs_background": "light"
     },
     "output_type": "display_data"
    }
   ],
   "source": [
    "figsize(12.5,4)\n",
    "salary=df.groupby('Position')['Salary'].mean()\n",
    "salary.sort_values(inplace=True)\n",
    "bar=sns.barplot(x=salary.index, y=salary)\n",
    "plt.xlabel(\"Position\")\n",
    "plt.ylabel(\"Salary, million dollar\")\n",
    "plt.title(\"Average salary across different positions\")\n",
    "plt.show()"
   ]
  },
  {
   "cell_type": "code",
   "execution_count": 12,
   "metadata": {},
   "outputs": [
    {
     "data": {
      "image/png": "[encoded data removed]",
      "text/plain": [
       "<Figure size 1152x432 with 1 Axes>"
      ]
     },
     "metadata": {
      "needs_background": "light"
     },
     "output_type": "display_data"
    }
   ],
   "source": [
    "figsize(16,6)\n",
    "my_order = df.groupby(\"Position\")['Salary'].median().sort_values(ascending=False).index\n",
    "sns.boxplot(data=df, x='Position', y='Salary', order=my_order)\n",
    "plt.title(\"Salary for different positions\")\n",
    "plt.show()"
   ]
  },
  {
   "cell_type": "code",
   "execution_count": 13,
   "metadata": {},
   "outputs": [
    {
     "data": {
      "text/html": [
       "<div>\n",
       "<style scoped>\n",
       "    .dataframe tbody tr th:only-of-type {\n",
       "        vertical-align: middle;\n",
       "    }\n",
       "\n",
       "    .dataframe tbody tr th {\n",
       "        vertical-align: top;\n",
       "    }\n",
       "\n",
       "    .dataframe thead th {\n",
       "        text-align: right;\n",
       "    }\n",
       "</style>\n",
       "<table border=\"1\" class=\"dataframe\">\n",
       "  <thead>\n",
       "    <tr style=\"text-align: right;\">\n",
       "      <th></th>\n",
       "      <th>count</th>\n",
       "      <th>mean</th>\n",
       "      <th>std</th>\n",
       "      <th>min</th>\n",
       "      <th>25%</th>\n",
       "      <th>50%</th>\n",
       "      <th>75%</th>\n",
       "      <th>max</th>\n",
       "    </tr>\n",
       "    <tr>\n",
       "      <th>Position</th>\n",
       "      <th></th>\n",
       "      <th></th>\n",
       "      <th></th>\n",
       "      <th></th>\n",
       "      <th></th>\n",
       "      <th></th>\n",
       "      <th></th>\n",
       "      <th></th>\n",
       "    </tr>\n",
       "  </thead>\n",
       "  <tbody>\n",
       "    <tr>\n",
       "      <th>C</th>\n",
       "      <td>83.0</td>\n",
       "      <td>8.513441</td>\n",
       "      <td>8.346114</td>\n",
       "      <td>0.245686</td>\n",
       "      <td>2.069921</td>\n",
       "      <td>4.767000</td>\n",
       "      <td>13.449275</td>\n",
       "      <td>28.000000</td>\n",
       "    </tr>\n",
       "    <tr>\n",
       "      <th>F</th>\n",
       "      <td>21.0</td>\n",
       "      <td>5.725415</td>\n",
       "      <td>7.408607</td>\n",
       "      <td>1.187862</td>\n",
       "      <td>1.416852</td>\n",
       "      <td>1.678854</td>\n",
       "      <td>6.134520</td>\n",
       "      <td>32.700690</td>\n",
       "    </tr>\n",
       "    <tr>\n",
       "      <th>G</th>\n",
       "      <td>38.0</td>\n",
       "      <td>2.840689</td>\n",
       "      <td>3.590827</td>\n",
       "      <td>0.208509</td>\n",
       "      <td>1.378242</td>\n",
       "      <td>1.557155</td>\n",
       "      <td>1.989896</td>\n",
       "      <td>18.500000</td>\n",
       "    </tr>\n",
       "    <tr>\n",
       "      <th>PF</th>\n",
       "      <td>89.0</td>\n",
       "      <td>7.138192</td>\n",
       "      <td>8.326470</td>\n",
       "      <td>0.183115</td>\n",
       "      <td>1.620564</td>\n",
       "      <td>3.481986</td>\n",
       "      <td>8.556120</td>\n",
       "      <td>34.449964</td>\n",
       "    </tr>\n",
       "    <tr>\n",
       "      <th>PG</th>\n",
       "      <td>82.0</td>\n",
       "      <td>9.440179</td>\n",
       "      <td>10.629510</td>\n",
       "      <td>0.350189</td>\n",
       "      <td>1.620564</td>\n",
       "      <td>5.327564</td>\n",
       "      <td>12.407848</td>\n",
       "      <td>40.231758</td>\n",
       "    </tr>\n",
       "    <tr>\n",
       "      <th>SF</th>\n",
       "      <td>93.0</td>\n",
       "      <td>7.441571</td>\n",
       "      <td>9.499326</td>\n",
       "      <td>0.350189</td>\n",
       "      <td>1.620564</td>\n",
       "      <td>3.219480</td>\n",
       "      <td>9.073050</td>\n",
       "      <td>38.199000</td>\n",
       "    </tr>\n",
       "    <tr>\n",
       "      <th>SG</th>\n",
       "      <td>122.0</td>\n",
       "      <td>6.648962</td>\n",
       "      <td>8.125566</td>\n",
       "      <td>0.155647</td>\n",
       "      <td>1.425778</td>\n",
       "      <td>2.710817</td>\n",
       "      <td>8.480373</td>\n",
       "      <td>38.199000</td>\n",
       "    </tr>\n",
       "  </tbody>\n",
       "</table>\n",
       "</div>"
      ],
      "text/plain": [
       "          count      mean        std       min       25%       50%        75%  \\\n",
       "Position                                                                        \n",
       "C          83.0  8.513441   8.346114  0.245686  2.069921  4.767000  13.449275   \n",
       "F          21.0  5.725415   7.408607  1.187862  1.416852  1.678854   6.134520   \n",
       "G          38.0  2.840689   3.590827  0.208509  1.378242  1.557155   1.989896   \n",
       "PF         89.0  7.138192   8.326470  0.183115  1.620564  3.481986   8.556120   \n",
       "PG         82.0  9.440179  10.629510  0.350189  1.620564  5.327564  12.407848   \n",
       "SF         93.0  7.441571   9.499326  0.350189  1.620564  3.219480   9.073050   \n",
       "SG        122.0  6.648962   8.125566  0.155647  1.425778  2.710817   8.480373   \n",
       "\n",
       "                max  \n",
       "Position             \n",
       "C         28.000000  \n",
       "F         32.700690  \n",
       "G         18.500000  \n",
       "PF        34.449964  \n",
       "PG        40.231758  \n",
       "SF        38.199000  \n",
       "SG        38.199000  "
      ]
     },
     "execution_count": 13,
     "metadata": {},
     "output_type": "execute_result"
    }
   ],
   "source": [
    "df.groupby('Position')['Salary'].describe()"
   ]
  },
  {
   "cell_type": "markdown",
   "metadata": {},
   "source": [
    "# Part 1: Shooting Guard vs Point Guard"
   ]
  },
  {
   "cell_type": "markdown",
   "metadata": {},
   "source": [
    "First, we filter out the data for SG and PG position. We also compute the pooled sample means and pooled sample variance as discussed in [1]"
   ]
  },
  {
   "cell_type": "code",
   "execution_count": 51,
   "metadata": {},
   "outputs": [],
   "source": [
    "SG=df[df['Position']=='SG']['Salary']\n",
    "PG=df[df['Position']=='PG']['Salary']\n",
    "pooled_mean=np.r_[SG, PG].mean()\n",
    "pooled_std=np.r_[SG, PG].std()\n",
    "variance=2*pooled_std"
   ]
  },
  {
   "cell_type": "markdown",
   "metadata": {},
   "source": [
    "Next, we set prior distributions on the parameters. We set the bounds for the standard deviations to be big enough so that it can catch a wide net."
   ]
  },
  {
   "cell_type": "code",
   "execution_count": 57,
   "metadata": {},
   "outputs": [],
   "source": [
    "with pm.Model() as model_1:\n",
    "    mu_A=pm.Normal(\"mu_A\", pooled_mean, sd=variance)\n",
    "    mu_B=pm.Normal(\"mu_B\", pooled_mean, sd=variance)\n",
    "    std_A=pm.Uniform(\"std_A\", 1/100, 100)\n",
    "    std_B=pm.Uniform(\"std_B\", 1/100, 100)\n",
    "    nu_minus_1=pm.Exponential(\"nu-1\", 1.0/29)\n",
    "    "
   ]
  },
  {
   "cell_type": "markdown",
   "metadata": {},
   "source": [
    "We fit the data into our model."
   ]
  },
  {
   "cell_type": "code",
   "execution_count": 58,
   "metadata": {},
   "outputs": [
    {
     "data": {
      "text/html": [
       "\n",
       "    <div>\n",
       "        <style>\n",
       "            /* Turns off some styling */\n",
       "            progress {\n",
       "                /* gets rid of default border in Firefox and Opera. */\n",
       "                border: none;\n",
       "                /* Needs to be in here for Safari polyfill so background images work as expected. */\n",
       "                background-size: auto;\n",
       "            }\n",
       "            .progress-bar-interrupted, .progress-bar-interrupted::-webkit-progress-bar {\n",
       "                background: #F44336;\n",
       "            }\n",
       "        </style>\n",
       "      <progress value='50' class='' max='50' style='width:300px; height:20px; vertical-align: middle;'></progress>\n",
       "      100.00% [50/50 00:00<00:00 logp = -708.82, ||grad|| = 0.0097958]\n",
       "    </div>\n",
       "    "
      ],
      "text/plain": [
       "<IPython.core.display.HTML object>"
      ]
     },
     "metadata": {},
     "output_type": "display_data"
    },
    {
     "name": "stdout",
     "output_type": "stream",
     "text": [
      "\n"
     ]
    },
    {
     "name": "stderr",
     "output_type": "stream",
     "text": [
      "Multiprocess sampling (4 chains in 4 jobs)\n",
      "CompoundStep\n",
      ">Metropolis: [nu-1]\n",
      ">Metropolis: [std_B]\n",
      ">Metropolis: [std_A]\n",
      ">Metropolis: [mu_B]\n",
      ">Metropolis: [mu_A]\n"
     ]
    },
    {
     "data": {
      "text/html": [
       "\n",
       "    <div>\n",
       "        <style>\n",
       "            /* Turns off some styling */\n",
       "            progress {\n",
       "                /* gets rid of default border in Firefox and Opera. */\n",
       "                border: none;\n",
       "                /* Needs to be in here for Safari polyfill so background images work as expected. */\n",
       "                background-size: auto;\n",
       "            }\n",
       "            .progress-bar-interrupted, .progress-bar-interrupted::-webkit-progress-bar {\n",
       "                background: #F44336;\n",
       "            }\n",
       "        </style>\n",
       "      <progress value='104000' class='' max='104000' style='width:300px; height:20px; vertical-align: middle;'></progress>\n",
       "      100.00% [104000/104000 00:26<00:00 Sampling 4 chains, 0 divergences]\n",
       "    </div>\n",
       "    "
      ],
      "text/plain": [
       "<IPython.core.display.HTML object>"
      ]
     },
     "metadata": {},
     "output_type": "display_data"
    },
    {
     "name": "stderr",
     "output_type": "stream",
     "text": [
      "Sampling 4 chains for 1_000 tune and 25_000 draw iterations (4_000 + 100_000 draws total) took 45 seconds.\n",
      "The number of effective samples is smaller than 10% for some parameters.\n"
     ]
    }
   ],
   "source": [
    "with model_1:\n",
    "    obs_A=pm.StudentT(\"obs_A\", mu=mu_A, lam=1.0/std_A**2, nu=nu_minus_1+1, observed=SG)\n",
    "    obs_B=pm.StudentT(\"obs_B\", mu=mu_B, lam=1.0/std_B**2, nu=nu_minus_1+1, observed=PG)\n",
    "    start=pm.find_MAP()\n",
    "    step=pm.Metropolis(vars=[mu_A, mu_B, std_A, std_B, nu_minus_1])\n",
    "    trace_1=pm.sample(25000, step=step)\n",
    "    burned_trace_1=trace_1[10000:]\n"
   ]
  },
  {
   "cell_type": "code",
   "execution_count": 59,
   "metadata": {},
   "outputs": [
    {
     "data": {
      "image/png": "[encoded data removed]",
      "text/plain": [
       "<Figure size 900x288 with 1 Axes>"
      ]
     },
     "metadata": {
      "needs_background": "light"
     },
     "output_type": "display_data"
    }
   ],
   "source": [
    "figsize(12.5, 4)\n",
    "SG_mean=burned_trace_1['mu_A']\n",
    "PG_mean=burned_trace_1['mu_B']\n",
    "plt.hist(SG_mean, bins=40, label=r'Posterior distribution of $\\mu_{SG}$')\n",
    "plt.hist(PG_mean, bins=40, label=r'Posterior distribution of $\\mu_{PG}$')\n",
    "plt.title('Posterior distributions of average salary derived from PyMC3')\n",
    "plt.legend()\n",
    "plt.show()"
   ]
  },
  {
   "cell_type": "code",
   "execution_count": 61,
   "metadata": {},
   "outputs": [
    {
     "data": {
      "image/png": "[encoded data removed]",
      "text/plain": [
       "<Figure size 900x288 with 1 Axes>"
      ]
     },
     "metadata": {
      "needs_background": "light"
     },
     "output_type": "display_data"
    }
   ],
   "source": [
    "figsize(12.5, 4)\n",
    "SG_std=burned_trace_1['std_A']\n",
    "PG_std=burned_trace_1['std_B']\n",
    "plt.hist(SG_std, bins=40, label=r'Posterior distribution of $\\sigma_{SG}$')\n",
    "plt.hist(PG_std, bins=40, label=r'Posterior distribution of $\\sigma_{PG}$')\n",
    "plt.title('Posterior distributions of  standard derivation derived from PyMC3')\n",
    "plt.legend()\n",
    "plt.show()"
   ]
  },
  {
   "cell_type": "markdown",
   "metadata": {},
   "source": [
    "We apply the best test for ROPE=[-0.1, 0.1] and 95% HDI. First, we plot histogram of the difference with these ROPE and HDI. "
   ]
  },
  {
   "cell_type": "code",
   "execution_count": 80,
   "metadata": {},
   "outputs": [
    {
     "data": {
      "image/png": "[encoded data removed]",
      "text/plain": [
       "<Figure size 900x288 with 1 Axes>"
      ]
     },
     "metadata": {
      "needs_background": "light"
     },
     "output_type": "display_data"
    }
   ],
   "source": [
    "figsize(12.5, 4)\n",
    "difference=PG_mean-SG_mean #difference of the means \n",
    "hdi=pm.stats.hpd(difference, hdi_prob=0.95) #the 95% HDI interval of the difference\n",
    "rope=[-0.1, 0.1] #the ROPE region \n",
    "plt.hist(difference, bins=50, density=True, label='Differene of the mean salaries')\n",
    "plt.title('Posterior distribution of the the difference of the means')\n",
    "plt.vlines(hdi[0], 0,0.6, linestyle='--', color='red', label='HDI')\n",
    "plt.vlines(hdi[1], 0, 0.6, linestyle='--', color='red')\n",
    "plt.vlines(rope[0], 0, 0.6, linestyle='--', color='black', label='ROPE')\n",
    "plt.vlines(rope[1], 0, 0.6, linestyle='--', color='black')\n",
    "plt.title('Posterior distribution of the the difference of the mean salaries for PG and SG')\n",
    "plt.legend(loc='upper right')\n",
    "plt.show()"
   ]
  },
  {
   "cell_type": "code",
   "execution_count": 81,
   "metadata": {},
   "outputs": [
    {
     "data": {
      "text/plain": [
       "array([0.5580346 , 3.57072747])"
      ]
     },
     "execution_count": 81,
     "metadata": {},
     "output_type": "execute_result"
    }
   ],
   "source": [
    "hdi"
   ]
  },
  {
   "cell_type": "code",
   "execution_count": 88,
   "metadata": {},
   "outputs": [
    {
     "name": "stdout",
     "output_type": "stream",
     "text": [
      "The probability that a PG player earn 50% more than an SG player is: 0.8830833333333333\n"
     ]
    },
    {
     "data": {
      "image/png": "[encoded data removed]",
      "text/plain": [
       "<Figure size 900x288 with 1 Axes>"
      ]
     },
     "metadata": {
      "needs_background": "light"
     },
     "output_type": "display_data"
    }
   ],
   "source": [
    "figsize(12.5, 4)\n",
    "rel_difference=100*(PG_mean-SG_mean)/SG_mean #difference of the means \n",
    "prob=len(rel_difference[rel_difference>50])/len(rel_difference)\n",
    "plt.hist(rel_difference, bins=50, density=True, label='Relative differene of the mean salaries')\n",
    "plt.title('Posterior distribution of the the relative difference of the means')\n",
    "plt.vlines(50, 0,0.011, linestyle='--', color='red', label='HDI')\n",
    "print(f\"The probability that a PG player earn 50% more than an SG player is: {prob}\")\n",
    "plt.show()"
   ]
  },
  {
   "cell_type": "markdown",
   "metadata": {},
   "source": [
    "# Part 2: Small Forward and Power Foward"
   ]
  },
  {
   "cell_type": "code",
   "execution_count": 14,
   "metadata": {},
   "outputs": [],
   "source": [
    "SF=df[df['Position']=='SF']['Salary']\n",
    "PF=df[df['Position']=='PF']['Salary']\n",
    "pooled_mean=np.r_[SF, PF].mean()\n",
    "pooled_std=np.r_[SF, PF].std()\n",
    "variance=2*pooled_std"
   ]
  },
  {
   "cell_type": "code",
   "execution_count": 15,
   "metadata": {},
   "outputs": [],
   "source": [
    "pooled_mean=np.r_[SF, PF].mean()\n",
    "pooled_std=np.r_[SF, PF].std()\n",
    "variance=2*pooled_std"
   ]
  },
  {
   "cell_type": "code",
   "execution_count": 16,
   "metadata": {},
   "outputs": [
    {
     "data": {
      "text/html": [
       "\n",
       "    <div>\n",
       "        <style>\n",
       "            /* Turns off some styling */\n",
       "            progress {\n",
       "                /* gets rid of default border in Firefox and Opera. */\n",
       "                border: none;\n",
       "                /* Needs to be in here for Safari polyfill so background images work as expected. */\n",
       "                background-size: auto;\n",
       "            }\n",
       "            .progress-bar-interrupted, .progress-bar-interrupted::-webkit-progress-bar {\n",
       "                background: #F44336;\n",
       "            }\n",
       "        </style>\n",
       "      <progress value='55' class='' max='55' style='width:300px; height:20px; vertical-align: middle;'></progress>\n",
       "      100.00% [55/55 00:00<00:00 logp = -614.99, ||grad|| = 0.0042734]\n",
       "    </div>\n",
       "    "
      ],
      "text/plain": [
       "<IPython.core.display.HTML object>"
      ]
     },
     "metadata": {},
     "output_type": "display_data"
    },
    {
     "name": "stdout",
     "output_type": "stream",
     "text": [
      "\n"
     ]
    },
    {
     "name": "stderr",
     "output_type": "stream",
     "text": [
      "Multiprocess sampling (4 chains in 4 jobs)\n",
      "CompoundStep\n",
      ">Metropolis: [nu-1]\n",
      ">Metropolis: [std_B]\n",
      ">Metropolis: [std_A]\n",
      ">Metropolis: [mu_B]\n",
      ">Metropolis: [mu_A]\n"
     ]
    },
    {
     "data": {
      "text/html": [
       "\n",
       "    <div>\n",
       "        <style>\n",
       "            /* Turns off some styling */\n",
       "            progress {\n",
       "                /* gets rid of default border in Firefox and Opera. */\n",
       "                border: none;\n",
       "                /* Needs to be in here for Safari polyfill so background images work as expected. */\n",
       "                background-size: auto;\n",
       "            }\n",
       "            .progress-bar-interrupted, .progress-bar-interrupted::-webkit-progress-bar {\n",
       "                background: #F44336;\n",
       "            }\n",
       "        </style>\n",
       "      <progress value='104000' class='' max='104000' style='width:300px; height:20px; vertical-align: middle;'></progress>\n",
       "      100.00% [104000/104000 00:29<00:00 Sampling 4 chains, 0 divergences]\n",
       "    </div>\n",
       "    "
      ],
      "text/plain": [
       "<IPython.core.display.HTML object>"
      ]
     },
     "metadata": {},
     "output_type": "display_data"
    },
    {
     "name": "stderr",
     "output_type": "stream",
     "text": [
      "Sampling 4 chains for 1_000 tune and 25_000 draw iterations (4_000 + 100_000 draws total) took 47 seconds.\n",
      "The number of effective samples is smaller than 10% for some parameters.\n"
     ]
    }
   ],
   "source": [
    "SF=df[df['Position']=='SF']['Salary']\n",
    "PF=df[df['Position']=='PF']['Salary']\n",
    "pooled_mean=np.r_[SF, PF].mean()\n",
    "pooled_std=np.r_[SF, PF].std()\n",
    "\n",
    "variance=2*pooled_std\n",
    "with pm.Model() as model_2:\n",
    "    mu_A=pm.Normal(\"mu_A\", pooled_mean, sd=variance)\n",
    "    mu_B=pm.Normal(\"mu_B\", pooled_mean, sd=variance)\n",
    "    std_A=pm.Uniform(\"std_A\", 1/100, 100)\n",
    "    std_B=pm.Uniform(\"std_B\", 1/100, 100)\n",
    "    nu_minus_1=pm.Exponential(\"nu-1\", 1.0/29)\n",
    "\n",
    "    obs_A=pm.StudentT(\"obs_A\", mu=mu_A, lam=1.0/std_A**2, nu=nu_minus_1+1, observed=SF)\n",
    "    obs_B=pm.StudentT(\"obs_B\", mu=mu_B, lam=1.0/std_B**2, nu=nu_minus_1+1, observed=PF)\n",
    "    start=pm.find_MAP()\n",
    "    step=pm.Metropolis(vars=[mu_A, mu_B, std_A, std_B, nu_minus_1])\n",
    "    trace_2=pm.sample(25000, step=step)\n",
    "    burned_trace_2=trace_2[10000:]\n",
    "    "
   ]
  },
  {
   "cell_type": "code",
   "execution_count": 17,
   "metadata": {},
   "outputs": [
    {
     "data": {
      "image/png": "[encoded data removed]",
      "text/plain": [
       "<Figure size 900x288 with 1 Axes>"
      ]
     },
     "metadata": {
      "needs_background": "light"
     },
     "output_type": "display_data"
    }
   ],
   "source": [
    "figsize(12.5, 4)\n",
    "SF_mean=burned_trace_2['mu_A']\n",
    "PF_mean=burned_trace_2['mu_B']\n",
    "plt.hist(SF_mean, bins=40, label=r'Posterior distributions of $\\mu_{SF}$')\n",
    "plt.hist(PF_mean, bins=40, label=r'Posterior distribution of $\\mu_{PF}$')\n",
    "plt.title('Posterior distributions of the mean salaries for SF and PF')\n",
    "plt.legend()\n",
    "plt.show()"
   ]
  },
  {
   "cell_type": "code",
   "execution_count": 18,
   "metadata": {},
   "outputs": [
    {
     "name": "stderr",
     "output_type": "stream",
     "text": [
      "/Users/hapham/opt/anaconda3/lib/python3.8/site-packages/arviz/stats/stats.py:338: UserWarning: hpd will be deprecated Please replace hdi\n",
      "  warnings.warn((\"hpd will be deprecated \" \"Please replace hdi\"),)\n"
     ]
    },
    {
     "data": {
      "image/png": "[encoded data removed]",
      "text/plain": [
       "<Figure size 900x288 with 1 Axes>"
      ]
     },
     "metadata": {
      "needs_background": "light"
     },
     "output_type": "display_data"
    }
   ],
   "source": [
    "figsize(12.5, 4)\n",
    "difference=PF_mean-SF_mean #difference of the means \n",
    "hdi=pm.stats.hpd(difference, hdi_prob=0.95) #the 95% HDI interval of the difference\n",
    "rope=[-0.1, 0.1] #the ROPE region \n",
    "plt.hist(difference, bins=50, density=True, label='Differene of the mean salaries')\n",
    "plt.title('Posterior distribution of the the difference of the means')\n",
    "plt.vlines(hdi[0], 0,0.9, linestyle='--', color='red', label='HDI')\n",
    "plt.vlines(hdi[1], 0, 0.9, linestyle='--', color='red')\n",
    "plt.vlines(rope[0], 0, 0.9, linestyle='--', color='black', label='ROPE')\n",
    "plt.vlines(rope[1], 0, 0.9, linestyle='--', color='black')\n",
    "plt.title('Posterior distribution of the difference of the mean salaries for SF and PF')\n",
    "plt.legend(loc='upper right')\n",
    "plt.show()"
   ]
  },
  {
   "cell_type": "code",
   "execution_count": 19,
   "metadata": {},
   "outputs": [
    {
     "data": {
      "text/plain": [
       "array([-0.44822444,  1.34450148])"
      ]
     },
     "execution_count": 19,
     "metadata": {},
     "output_type": "execute_result"
    }
   ],
   "source": [
    "hdi"
   ]
  },
  {
   "cell_type": "markdown",
   "metadata": {},
   "source": [
    "# Part 3: Center vs Power Forward"
   ]
  },
  {
   "cell_type": "code",
   "execution_count": 26,
   "metadata": {},
   "outputs": [
    {
     "data": {
      "text/html": [
       "\n",
       "    <div>\n",
       "        <style>\n",
       "            /* Turns off some styling */\n",
       "            progress {\n",
       "                /* gets rid of default border in Firefox and Opera. */\n",
       "                border: none;\n",
       "                /* Needs to be in here for Safari polyfill so background images work as expected. */\n",
       "                background-size: auto;\n",
       "            }\n",
       "            .progress-bar-interrupted, .progress-bar-interrupted::-webkit-progress-bar {\n",
       "                background: #F44336;\n",
       "            }\n",
       "        </style>\n",
       "      <progress value='41' class='' max='41' style='width:300px; height:20px; vertical-align: middle;'></progress>\n",
       "      100.00% [41/41 00:00<00:00 logp = -606.16, ||grad|| = 0.0036628]\n",
       "    </div>\n",
       "    "
      ],
      "text/plain": [
       "<IPython.core.display.HTML object>"
      ]
     },
     "metadata": {},
     "output_type": "display_data"
    },
    {
     "name": "stdout",
     "output_type": "stream",
     "text": [
      "\n"
     ]
    },
    {
     "name": "stderr",
     "output_type": "stream",
     "text": [
      "Multiprocess sampling (4 chains in 4 jobs)\n",
      "CompoundStep\n",
      ">Metropolis: [nu-1]\n",
      ">Metropolis: [std_B]\n",
      ">Metropolis: [std_A]\n",
      ">Metropolis: [mu_B]\n",
      ">Metropolis: [mu_A]\n"
     ]
    },
    {
     "data": {
      "text/html": [
       "\n",
       "    <div>\n",
       "        <style>\n",
       "            /* Turns off some styling */\n",
       "            progress {\n",
       "                /* gets rid of default border in Firefox and Opera. */\n",
       "                border: none;\n",
       "                /* Needs to be in here for Safari polyfill so background images work as expected. */\n",
       "                background-size: auto;\n",
       "            }\n",
       "            .progress-bar-interrupted, .progress-bar-interrupted::-webkit-progress-bar {\n",
       "                background: #F44336;\n",
       "            }\n",
       "        </style>\n",
       "      <progress value='104000' class='' max='104000' style='width:300px; height:20px; vertical-align: middle;'></progress>\n",
       "      100.00% [104000/104000 00:26<00:00 Sampling 4 chains, 0 divergences]\n",
       "    </div>\n",
       "    "
      ],
      "text/plain": [
       "<IPython.core.display.HTML object>"
      ]
     },
     "metadata": {},
     "output_type": "display_data"
    },
    {
     "name": "stderr",
     "output_type": "stream",
     "text": [
      "Sampling 4 chains for 1_000 tune and 25_000 draw iterations (4_000 + 100_000 draws total) took 44 seconds.\n",
      "The number of effective samples is smaller than 10% for some parameters.\n"
     ]
    }
   ],
   "source": [
    "C=df[df['Position']=='C']['Salary']\n",
    "PF=df[df['Position']=='PF']['Salary']\n",
    "pooled_mean=np.r_[C, PF].mean()\n",
    "pooled_std=np.r_[C, PF].std()\n",
    "\n",
    "variance=2*pooled_std\n",
    "with pm.Model() as model_3:\n",
    "    mu_A=pm.Normal(\"mu_A\", pooled_mean, sd=variance)\n",
    "    mu_B=pm.Normal(\"mu_B\", pooled_mean, sd=variance)\n",
    "    std_A=pm.Uniform(\"std_A\", 1/100, 100)\n",
    "    std_B=pm.Uniform(\"std_B\", 1/100, 100)\n",
    "    nu_minus_1=pm.Exponential(\"nu-1\", 1.0/29)\n",
    "\n",
    "    obs_A=pm.StudentT(\"obs_A\", mu=mu_A, lam=1.0/std_A**2, nu=nu_minus_1+1, observed=C)\n",
    "    obs_B=pm.StudentT(\"obs_B\", mu=mu_B, lam=1.0/std_B**2, nu=nu_minus_1+1, observed=PF)\n",
    "    start=pm.find_MAP()\n",
    "    step=pm.Metropolis(vars=[mu_A, mu_B, std_A, std_B, nu_minus_1])\n",
    "    trace_3=pm.sample(25000, step=step)\n",
    "    burned_trace_3=trace_3[10000:]\n",
    "    "
   ]
  },
  {
   "cell_type": "code",
   "execution_count": 27,
   "metadata": {},
   "outputs": [
    {
     "data": {
      "image/png": "[encoded data removed]",
      "text/plain": [
       "<Figure size 900x288 with 1 Axes>"
      ]
     },
     "metadata": {
      "needs_background": "light"
     },
     "output_type": "display_data"
    }
   ],
   "source": [
    "figsize(12.5, 4)\n",
    "C_mean=burned_trace_3['mu_A']\n",
    "PF_mean=burned_trace_3['mu_B']\n",
    "plt.hist(SF_mean, bins=40, label=r'Posterior distribution of $\\mu_{C}$')\n",
    "plt.hist(SG_mean, bins=40, label=r'Posterior distribution of $\\mu_{PF}$')\n",
    "plt.title('Posterior distributions of the mean salaries for C and PF')\n",
    "plt.legend()\n",
    "plt.show()"
   ]
  },
  {
   "cell_type": "code",
   "execution_count": 46,
   "metadata": {},
   "outputs": [
    {
     "data": {
      "image/png": "[encoded data removed]",
      "text/plain": [
       "<Figure size 900x288 with 1 Axes>"
      ]
     },
     "metadata": {
      "needs_background": "light"
     },
     "output_type": "display_data"
    }
   ],
   "source": [
    "figsize(12.5, 4)\n",
    "difference=C_mean-PF_mean #difference of the means \n",
    "prob=95\n",
    "hdi=pm.stats.hpd(difference, hdi_prob=prob/100) #the 95% HDI interval of the difference\n",
    "rope=[-0.1, 0.1] #the ROPE region \n",
    "plt.hist(difference, bins=50, density=True, label='Differene of the mean salaries')\n",
    "plt.title('Posterior distribution of the the difference of the means')\n",
    "plt.vlines(hdi[0], 0,0.6, linestyle='--', color='red', label='HDI')\n",
    "plt.vlines(hdi[1], 0, 0.6, linestyle='--', color='red')\n",
    "plt.vlines(rope[0], 0, 0.6, linestyle='--', color='black', label='ROPE')\n",
    "plt.vlines(rope[1], 0, 0.6, linestyle='--', color='black')\n",
    "plt.title(f'Difference of the mean salaries between SF and PF for ROPE={rope}, {prob}% HDI')\n",
    "plt.legend(loc='upper right')\n",
    "plt.show()"
   ]
  },
  {
   "cell_type": "code",
   "execution_count": 47,
   "metadata": {},
   "outputs": [
    {
     "data": {
      "image/png": "[encoded data removed]",
      "text/plain": [
       "<Figure size 900x288 with 1 Axes>"
      ]
     },
     "metadata": {
      "needs_background": "light"
     },
     "output_type": "display_data"
    }
   ],
   "source": [
    "figsize(12.5, 4)\n",
    "difference=C_mean-PF_mean #difference of the means \n",
    "prob=80\n",
    "hdi=pm.stats.hpd(difference, hdi_prob=prob/100) #the 95% HDI interval of the difference\n",
    "rope=[-0.1, 0.1] #the ROPE region \n",
    "plt.hist(difference, bins=50, density=True, label='Differene of the mean salaries')\n",
    "plt.title('Posterior distribution of the the difference of the means')\n",
    "plt.vlines(hdi[0], 0,0.6, linestyle='--', color='red', label='HDI')\n",
    "plt.vlines(hdi[1], 0, 0.6, linestyle='--', color='red')\n",
    "plt.vlines(rope[0], 0, 0.6, linestyle='--', color='black', label='ROPE')\n",
    "plt.vlines(rope[1], 0, 0.6, linestyle='--', color='black')\n",
    "plt.title(f'Difference of the mean salaries between SF and PF for ROPE={rope}, {prob}% HDI')\n",
    "plt.legend(loc='upper right')\n",
    "plt.show()"
   ]
  }
 ],
 "metadata": {
  "kernelspec": {
   "display_name": "Python 3",
   "language": "python",
   "name": "python3"
  },
  "language_info": {
   "codemirror_mode": {
    "name": "ipython",
    "version": 3
   },
   "file_extension": ".py",
   "mimetype": "text/x-python",
   "name": "python",
   "nbconvert_exporter": "python",
   "pygments_lexer": "ipython3",
   "version": "3.8.3"
  }
 },
 "nbformat": 4,
 "nbformat_minor": 2
}
